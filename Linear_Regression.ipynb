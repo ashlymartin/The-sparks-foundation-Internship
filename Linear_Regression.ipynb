{
  "nbformat": 4,
  "nbformat_minor": 0,
  "metadata": {
    "colab": {
      "name": "Linear Regression.ipynb",
      "provenance": [],
      "collapsed_sections": []
    },
    "kernelspec": {
      "name": "python3",
      "display_name": "Python 3"
    }
  },
  "cells": [
    {
      "cell_type": "code",
      "metadata": {
        "id": "Nyx23V6hF6vx"
      },
      "source": [
        "import pandas as pd\n",
        "import numpy as np  \n",
        "import matplotlib.pyplot as plt  \n",
        "%matplotlib inline\n",
        "\n",
        "url = \"http://bit.ly/w-data\"\n",
        "fdata = pd.read_csv(url)\n",
        "print(\"Data imported successfully\")\n",
        "\n",
        "fdata.head(10)"
      ],
      "execution_count": null,
      "outputs": []
    },
    {
      "cell_type": "code",
      "metadata": {
        "id": "6l7R88ZvHIdx"
      },
      "source": [
        "fdata.plot(x='Hours', y='Scores', style='o')\n",
        "plt.xlabel('Hours studied')\n",
        "plt.ylabel('Percentage scored')\n",
        "plt.title('Hours vs Percentage')\n",
        "plt.show()"
      ],
      "execution_count": null,
      "outputs": []
    },
    {
      "cell_type": "code",
      "metadata": {
        "id": "QojMKR-7LLAL"
      },
      "source": [
        "x=fdata.iloc[:,:-1].values\n",
        "y=fdata.iloc[:,1].values\n",
        "\n",
        "from sklearn.model_selection import train_test_split\n",
        "xtrain,xtest,ytrain,ytest=train_test_split(x,y,test_size=0.2,random_state=0)\n",
        "\n",
        "from sklearn.linear_model import LinearRegression\n",
        "regressor=LinearRegression()\n",
        "regressor.fit(xtrain,ytrain)\n",
        "\n",
        "print('Training complete!')"
      ],
      "execution_count": null,
      "outputs": []
    },
    {
      "cell_type": "markdown",
      "metadata": {
        "id": "slNpperJxzd-"
      },
      "source": [
        "# New section"
      ]
    },
    {
      "cell_type": "code",
      "metadata": {
        "id": "0wp6pIGwWQdk"
      },
      "source": [
        "line=regressor.coef_*x+regressor.intercept_\n",
        "plt.scatter(x,y)\n",
        "plt.plot(x,line);\n",
        "plt.show()"
      ],
      "execution_count": null,
      "outputs": []
    },
    {
      "cell_type": "code",
      "metadata": {
        "id": "FwC0HXQ3ZLFZ"
      },
      "source": [
        "print(xtest)\n",
        "ypred=regressor.predict(xtest)"
      ],
      "execution_count": null,
      "outputs": []
    },
    {
      "cell_type": "code",
      "metadata": {
        "id": "ehIhDDx-Zm_B"
      },
      "source": [
        "df=pd.DataFrame({'Actual':ytest,'Predicted':ypred})\n",
        "df"
      ],
      "execution_count": null,
      "outputs": []
    },
    {
      "cell_type": "code",
      "metadata": {
        "id": "XEWus9pVneKY"
      },
      "source": [
        "np.shape(df)"
      ],
      "execution_count": null,
      "outputs": []
    },
    {
      "cell_type": "code",
      "metadata": {
        "id": "CyBmVYYNbK-1"
      },
      "source": [
        "hours=9.25\n",
        "own_pred = regressor.predict([[hours]])\n",
        "print(\"No of Hours = {}\".format(hours))\n",
        "print(\"Predicted Score = {}\".format(own_pred[0]))"
      ],
      "execution_count": null,
      "outputs": []
    },
    {
      "cell_type": "code",
      "metadata": {
        "id": "Km_Fe_tJoZNs"
      },
      "source": [
        "from sklearn import metrics  \n",
        "print('Mean Absolute Error:', \n",
        "      metrics.mean_absolute_error(ytest, ypred))"
      ],
      "execution_count": null,
      "outputs": []
    },
    {
      "cell_type": "markdown",
      "metadata": {
        "id": "_ikQMx81ZKps"
      },
      "source": [
        ""
      ]
    }
  ]
}